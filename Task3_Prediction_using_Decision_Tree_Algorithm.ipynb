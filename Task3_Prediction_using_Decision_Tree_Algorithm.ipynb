{
  "nbformat": 4,
  "nbformat_minor": 0,
  "metadata": {
    "colab": {
      "name": "Task3:Prediction using Decision Tree  Algorithm.ipynb",
      "provenance": [],
      "authorship_tag": "ABX9TyM73qokYw/pTDaE2qRpvw9f",
      "include_colab_link": true
    },
    "kernelspec": {
      "name": "python3",
      "display_name": "Python 3"
    },
    "language_info": {
      "name": "python"
    }
  },
  "cells": [
    {
      "cell_type": "markdown",
      "metadata": {
        "id": "view-in-github",
        "colab_type": "text"
      },
      "source": [
        "<a href=\"https://colab.research.google.com/github/2019mohamed/Graduate-Rotational-Internship-Program-GRIP-/blob/main/Task3_Prediction_using_Decision_Tree_Algorithm.ipynb\" target=\"_parent\"><img src=\"https://colab.research.google.com/assets/colab-badge.svg\" alt=\"Open In Colab\"/></a>"
      ]
    },
    {
      "cell_type": "markdown",
      "metadata": {
        "id": "t8pGcum-r-8t"
      },
      "source": [
        "**Hi, I am Muhammad Anwar**\n",
        "\n",
        "this task is classification using DecisionTreeClassifier and draw DecisionTree."
      ]
    },
    {
      "cell_type": "code",
      "metadata": {
        "id": "t6qoFAywldYv"
      },
      "source": [
        "from matplotlib import pyplot as plt\n",
        "\n",
        "from sklearn.model_selection import train_test_split\n",
        "from sklearn.datasets import load_iris\n",
        "from sklearn.tree import DecisionTreeClassifier\n",
        "from sklearn import tree\n",
        "\n",
        "iris = load_iris()\n",
        "X = iris.data\n",
        "y = iris.target\n",
        "\n",
        "X_train, X_test, y_train, y_test = train_test_split(X, y, random_state=42 , test_size = 0.3 )"
      ],
      "execution_count": 1,
      "outputs": []
    },
    {
      "cell_type": "markdown",
      "metadata": {
        "id": "WYH5C1ossOW4"
      },
      "source": [
        "DecisionTreeClassifier trains, and it ACC is 100 %.\n"
      ]
    },
    {
      "cell_type": "code",
      "metadata": {
        "colab": {
          "base_uri": "https://localhost:8080/"
        },
        "id": "VbOZBzSFqs8I",
        "outputId": "d4d8c7dc-4507-4fb4-b929-ec1a44efd700"
      },
      "source": [
        "model = DecisionTreeClassifier()\n",
        "model.fit(X_train , y_train)\n",
        "\n",
        "Acc = model.score(X_test , y_test)\n",
        "print(\"Acc \",Acc)"
      ],
      "execution_count": 2,
      "outputs": [
        {
          "output_type": "stream",
          "text": [
            "Acc  1.0\n"
          ],
          "name": "stdout"
        }
      ]
    },
    {
      "cell_type": "markdown",
      "metadata": {
        "id": "gsPAVHsFsabM"
      },
      "source": [
        "\n",
        "Draw all DecisionTree ! \n",
        "\n"
      ]
    },
    {
      "cell_type": "code",
      "metadata": {
        "colab": {
          "base_uri": "https://localhost:8080/",
          "height": 248
        },
        "id": "z78dhiNHrN4W",
        "outputId": "9d1d4e4e-dcf9-4fe7-a624-7ab1cf782a32"
      },
      "source": [
        "tree.plot_tree(model)\n",
        "plt.show()"
      ],
      "execution_count": 5,
      "outputs": [
        {
          "output_type": "display_data",
          "data": {
            "image/png": "[encoded data removed]",
            "text/plain": [
              "<Figure size 432x288 with 1 Axes>"
            ]
          },
          "metadata": {
            "tags": [],
            "needs_background": "light"
          }
        }
      ]
    }
  ]
}